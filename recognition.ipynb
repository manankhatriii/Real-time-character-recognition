{
 "cells": [
  {
   "cell_type": "code",
   "execution_count": 1,
   "metadata": {},
   "outputs": [],
   "source": [
    "import numpy as np\n",
    "import matplotlib.pyplot as plt\n",
    "import cv2\n",
    "from sklearn.datasets import fetch_openml\n",
    "from sklearn.model_selection import train_test_split, GridSearchCV\n",
    "from sklearn.metrics import confusion_matrix, classification_report\n",
    "from sklearn.svm import SVC\n",
    "import joblib\n",
    "import warnings"
   ]
  },
  {
   "cell_type": "code",
   "execution_count": 2,
   "metadata": {},
   "outputs": [
    {
     "name": "stdout",
     "output_type": "stream",
     "text": [
      "MNIST dataset loaded and preprocessed.\n"
     ]
    }
   ],
   "source": [
    "mnist = fetch_openml('mnist_784', version=1)\n",
    "X, y = mnist.data / 255.0, mnist.target.astype(np.int64)\n",
    "\n",
    "X_train, X_test, y_train, y_test = train_test_split(X, y, test_size=0.2, random_state=42)\n",
    "\n",
    "print(\"MNIST dataset loaded and preprocessed.\")"
   ]
  },
  {
   "cell_type": "code",
   "execution_count": 3,
   "metadata": {},
   "outputs": [],
   "source": [
    "svc = SVC()"
   ]
  },
  {
   "cell_type": "code",
   "execution_count": 4,
   "metadata": {},
   "outputs": [
    {
     "name": "stderr",
     "output_type": "stream",
     "text": [
      "c:\\Users\\manan\\AppData\\Local\\Programs\\Python\\Python311\\Lib\\site-packages\\sklearn\\base.py:376: InconsistentVersionWarning: Trying to unpickle estimator SVC from version 1.3.0 when using version 1.4.1.post1. This might lead to breaking code or invalid results. Use at your own risk. For more info please refer to:\n",
      "https://scikit-learn.org/stable/model_persistence.html#security-maintainability-limitations\n",
      "  warnings.warn(\n",
      "c:\\Users\\manan\\AppData\\Local\\Programs\\Python\\Python311\\Lib\\site-packages\\sklearn\\base.py:376: InconsistentVersionWarning: Trying to unpickle estimator RandomizedSearchCV from version 1.3.0 when using version 1.4.1.post1. This might lead to breaking code or invalid results. Use at your own risk. For more info please refer to:\n",
      "https://scikit-learn.org/stable/model_persistence.html#security-maintainability-limitations\n",
      "  warnings.warn(\n"
     ]
    }
   ],
   "source": [
    "param_grid = {\n",
    "    'C': [1, 10, 100], \n",
    "    'kernel': ['linear', 'rbf'],\n",
    "    'gamma': ['scale', 0.01, 0.1],\n",
    "    'shrinking': [True],\n",
    "    'decision_function_shape': ['ovr']\n",
    "}\n",
    "'''\n",
    "from sklearn.model_selection import RandomizedSearchCV\n",
    "random_search = RandomizedSearchCV(svc, param_distributions=param_grid, n_iter=30, cv=2, verbose=2, n_jobs=-1, random_state=42)\n",
    "random_search.fit(X_train, y_train)\n",
    "best_model = random_search.best_estimator_\n",
    "'''\n",
    "\n",
    "random_search= joblib.load('random_search.pkl')\n",
    "best_model= joblib.load('best_model.pkl')"
   ]
  },
  {
   "cell_type": "code",
   "execution_count": 5,
   "metadata": {},
   "outputs": [],
   "source": [
    "#joblib.dump(random_search, 'random_search.pkl')\n",
    "#joblib.dump(best_model, 'best_model.pkl')"
   ]
  },
  {
   "cell_type": "code",
   "execution_count": 6,
   "metadata": {},
   "outputs": [
    {
     "name": "stdout",
     "output_type": "stream",
     "text": [
      "Best hyperparameters found:\n",
      "{'shrinking': True, 'kernel': 'rbf', 'gamma': 'scale', 'decision_function_shape': 'ovr', 'C': 10}\n"
     ]
    }
   ],
   "source": [
    "print(\"Best hyperparameters found:\")\n",
    "print(random_search.best_params_)"
   ]
  },
  {
   "cell_type": "code",
   "execution_count": 7,
   "metadata": {},
   "outputs": [],
   "source": [
    "#y_pred = best_model.predict(X_test)\n",
    "\n",
    "y_pred= np.load('y_pred.npy')"
   ]
  },
  {
   "cell_type": "code",
   "execution_count": 8,
   "metadata": {},
   "outputs": [],
   "source": [
    "#np.save('y_pred.npy', y_pred)"
   ]
  },
  {
   "cell_type": "code",
   "execution_count": 9,
   "metadata": {},
   "outputs": [
    {
     "name": "stdout",
     "output_type": "stream",
     "text": [
      "Confusion Matrix:\n",
      "[[1329    1    4    0    1    0    3    1    4    0]\n",
      " [   0 1588    3    3    1    0    0    5    0    0]\n",
      " [   2    3 1358    1    2    1    2    5    5    1]\n",
      " [   1    1   12 1401    2    6    0    5    2    3]\n",
      " [   1    0    2    0 1273    0    2    4    1   12]\n",
      " [   0    1    0   10    2 1247    8    0    5    0]\n",
      " [   1    0    0    0    5    4 1385    0    1    0]\n",
      " [   1    2   10    0    5    1    0 1478    1    5]\n",
      " [   3    3    4    8    1    6    4    4 1317    7]\n",
      " [   7    4    1    7    7    2    0   12    4 1376]]\n"
     ]
    }
   ],
   "source": [
    "print(\"Confusion Matrix:\")\n",
    "print(confusion_matrix(y_test, y_pred))"
   ]
  },
  {
   "cell_type": "code",
   "execution_count": 10,
   "metadata": {},
   "outputs": [
    {
     "name": "stdout",
     "output_type": "stream",
     "text": [
      "Classification Report:\n",
      "              precision    recall  f1-score   support\n",
      "\n",
      "           0       0.99      0.99      0.99      1343\n",
      "           1       0.99      0.99      0.99      1600\n",
      "           2       0.97      0.98      0.98      1380\n",
      "           3       0.98      0.98      0.98      1433\n",
      "           4       0.98      0.98      0.98      1295\n",
      "           5       0.98      0.98      0.98      1273\n",
      "           6       0.99      0.99      0.99      1396\n",
      "           7       0.98      0.98      0.98      1503\n",
      "           8       0.98      0.97      0.98      1357\n",
      "           9       0.98      0.97      0.97      1420\n",
      "\n",
      "    accuracy                           0.98     14000\n",
      "   macro avg       0.98      0.98      0.98     14000\n",
      "weighted avg       0.98      0.98      0.98     14000\n",
      "\n"
     ]
    }
   ],
   "source": [
    "print(\"Classification Report:\")\n",
    "print(classification_report(y_test, y_pred))"
   ]
  },
  {
   "cell_type": "code",
   "execution_count": 11,
   "metadata": {},
   "outputs": [],
   "source": [
    "def preprocess_image(image):\n",
    "    gray = cv2.cvtColor(image, cv2.COLOR_BGR2GRAY)\n",
    "    _, binary = cv2.threshold(gray, 128, 255, cv2.THRESH_BINARY_INV + cv2.THRESH_OTSU)\n",
    "    resized = cv2.resize(binary, (28, 28), interpolation=cv2.INTER_AREA)\n",
    "    reshaped = resized.reshape(1, -1)\n",
    "    return reshaped / 255.0"
   ]
  },
  {
   "cell_type": "code",
   "execution_count": 12,
   "metadata": {},
   "outputs": [
    {
     "name": "stdout",
     "output_type": "stream",
     "text": [
      "Webcam opened successfully.\n"
     ]
    }
   ],
   "source": [
    "url= 'http://192.168.0.123:8080/video'\n",
    "cap = cv2.VideoCapture(url)\n",
    "if not cap.isOpened():\n",
    "    print(\"Error: Could not open webcam.\")\n",
    "    exit()\n",
    "\n",
    "print(\"Webcam opened successfully.\")\n",
    "\n",
    "x_start, y_start = 625,300\n",
    "width, height = 196, 196\n",
    "\n",
    "while True:\n",
    "    ret, frame = cap.read()\n",
    "    if not ret:\n",
    "        print(\"Error: Failed to capture image.\")\n",
    "        break\n",
    "    cv2.rectangle(frame, (x_start, y_start), (x_start + width, y_start + height), (0, 255, 0), 2)\n",
    "    roi = frame[y_start:y_start + height, x_start:x_start + width]\n",
    "    preprocessed_frame = preprocess_image(roi)\n",
    "    \n",
    "    cv2.imshow('Captured Region', roi)\n",
    "    cv2.imshow('Preprocessed Region', preprocessed_frame.reshape(28, 28))\n",
    "\n",
    "\n",
    "    with warnings.catch_warnings():\n",
    "        warnings.simplefilter(\"ignore\", category=UserWarning)\n",
    "        prediction = best_model.predict(preprocessed_frame)\n",
    "\n",
    "    #cv2.putText(frame, f\"NUMBER: {prediction[0]}\", (50,50), cv2.FONT_HERSHEY_TRIPLEX, 2, (151,213,179), 1)\n",
    "    text = f\"NUMBER: {prediction[0]}\"\n",
    "    font = cv2.FONT_HERSHEY_SIMPLEX\n",
    "    font_scale = 1\n",
    "    font_thickness = 2\n",
    "    text_size = cv2.getTextSize(text, font, font_scale, font_thickness)[0]\n",
    "    \n",
    "    text_x = 50\n",
    "    text_y = 100  # Adjusted for better positioning\n",
    "    text_w = text_size[0] + 20\n",
    "    text_h = text_size[1] + 20\n",
    "\n",
    "    cv2.rectangle(frame, (text_x - 10, text_y - text_h - 10), (text_x + text_w, text_y + 10), (0, 0, 0), -1)\n",
    "    cv2.putText(frame, text, (text_x, text_y), font, font_scale, (145,159,212), font_thickness, cv2.LINE_AA)\n",
    "\n",
    "\n",
    "    cv2.imshow('Number Detection', frame)\n",
    "\n",
    "    if cv2.waitKey(1) & 0xFF == ord('q'):\n",
    "        break\n",
    "\n",
    "cap.release()\n",
    "cv2.destroyAllWindows()\n"
   ]
  },
  {
   "cell_type": "code",
   "execution_count": null,
   "metadata": {},
   "outputs": [],
   "source": []
  }
 ],
 "metadata": {
  "kernelspec": {
   "display_name": "Python 3 (ipykernel)",
   "language": "python",
   "name": "python3"
  },
  "language_info": {
   "codemirror_mode": {
    "name": "ipython",
    "version": 3
   },
   "file_extension": ".py",
   "mimetype": "text/x-python",
   "name": "python",
   "nbconvert_exporter": "python",
   "pygments_lexer": "ipython3",
   "version": "3.11.4"
  }
 },
 "nbformat": 4,
 "nbformat_minor": 2
}
